{
 "cells": [
  {
   "cell_type": "code",
   "execution_count": 281,
   "metadata": {},
   "outputs": [],
   "source": [
    "import pandas as pd\n",
    "import numpy as np"
   ]
  },
  {
   "cell_type": "markdown",
   "metadata": {},
   "source": [
    "# Read a comma-separated values (csv) file into DataFrame.\n",
    "\n",
    "The data folder contains a file named \"newark_tree_data.csv\". Read this file into a dataframe.\n",
    "\n",
    "\n",
    "resources:\n",
    "* [Pandas read csv docs](https://pandas.pydata.org/pandas-docs/stable/reference/api/pandas.read_csv.html#pandas.read_csv)"
   ]
  },
  {
   "cell_type": "code",
   "execution_count": 282,
   "metadata": {},
   "outputs": [],
   "source": [
    "# Create DataFrame here.\n",
    "\n",
    "df = pd.read_csv('data/newark_tree_data.csv')"
   ]
  },
  {
   "cell_type": "code",
   "execution_count": 283,
   "metadata": {},
   "outputs": [
    {
     "data": {
      "text/html": [
       "<div>\n",
       "<style scoped>\n",
       "    .dataframe tbody tr th:only-of-type {\n",
       "        vertical-align: middle;\n",
       "    }\n",
       "\n",
       "    .dataframe tbody tr th {\n",
       "        vertical-align: top;\n",
       "    }\n",
       "\n",
       "    .dataframe thead th {\n",
       "        text-align: right;\n",
       "    }\n",
       "</style>\n",
       "<table border=\"1\" class=\"dataframe\">\n",
       "  <thead>\n",
       "    <tr style=\"text-align: right;\">\n",
       "      <th></th>\n",
       "      <th>ID</th>\n",
       "      <th>ON</th>\n",
       "      <th>AREA</th>\n",
       "      <th>ADDRESS</th>\n",
       "      <th>STREET</th>\n",
       "      <th>SITE</th>\n",
       "      <th>SIDE</th>\n",
       "      <th>ASSIGNED</th>\n",
       "      <th>COMMON</th>\n",
       "      <th>BOTANICAL</th>\n",
       "      <th>...</th>\n",
       "      <th>IMPROPMULC</th>\n",
       "      <th>IMPROPPRUN</th>\n",
       "      <th>NUTRIENTD</th>\n",
       "      <th>PEST</th>\n",
       "      <th>GIRDLING</th>\n",
       "      <th>STRESS</th>\n",
       "      <th>OHUTILITY</th>\n",
       "      <th>TOP_HEIGHT</th>\n",
       "      <th>CROWN_M</th>\n",
       "      <th>CROWN_DIE</th>\n",
       "    </tr>\n",
       "  </thead>\n",
       "  <tbody>\n",
       "    <tr>\n",
       "      <th>0</th>\n",
       "      <td>11.0</td>\n",
       "      <td>Elan Park</td>\n",
       "      <td>Elan Park</td>\n",
       "      <td>2</td>\n",
       "      <td>Blue Hen Rg</td>\n",
       "      <td>11.0</td>\n",
       "      <td>Front</td>\n",
       "      <td>False</td>\n",
       "      <td>arborvitae, eastern</td>\n",
       "      <td>Thuja occidentalis</td>\n",
       "      <td>...</td>\n",
       "      <td>False</td>\n",
       "      <td>False</td>\n",
       "      <td>False</td>\n",
       "      <td>False</td>\n",
       "      <td>False</td>\n",
       "      <td>False</td>\n",
       "      <td>No</td>\n",
       "      <td>40</td>\n",
       "      <td>0-5%</td>\n",
       "      <td>0-5%</td>\n",
       "    </tr>\n",
       "    <tr>\n",
       "      <th>1</th>\n",
       "      <td>12.0</td>\n",
       "      <td>Elan Park</td>\n",
       "      <td>Elan Park</td>\n",
       "      <td>2</td>\n",
       "      <td>Blue Hen Rg</td>\n",
       "      <td>12.0</td>\n",
       "      <td>Front</td>\n",
       "      <td>False</td>\n",
       "      <td>arborvitae, eastern</td>\n",
       "      <td>Thuja occidentalis</td>\n",
       "      <td>...</td>\n",
       "      <td>False</td>\n",
       "      <td>False</td>\n",
       "      <td>False</td>\n",
       "      <td>False</td>\n",
       "      <td>False</td>\n",
       "      <td>False</td>\n",
       "      <td>No</td>\n",
       "      <td>41</td>\n",
       "      <td>0-5%</td>\n",
       "      <td>0-5%</td>\n",
       "    </tr>\n",
       "    <tr>\n",
       "      <th>2</th>\n",
       "      <td>13.0</td>\n",
       "      <td>Elan Park</td>\n",
       "      <td>Elan Park</td>\n",
       "      <td>2</td>\n",
       "      <td>Blue Hen Rg</td>\n",
       "      <td>13.0</td>\n",
       "      <td>Front</td>\n",
       "      <td>False</td>\n",
       "      <td>pine, eastern white</td>\n",
       "      <td>Pinus strobus</td>\n",
       "      <td>...</td>\n",
       "      <td>False</td>\n",
       "      <td>False</td>\n",
       "      <td>False</td>\n",
       "      <td>False</td>\n",
       "      <td>True</td>\n",
       "      <td>False</td>\n",
       "      <td>No</td>\n",
       "      <td>54</td>\n",
       "      <td>0-5%</td>\n",
       "      <td>6-10%</td>\n",
       "    </tr>\n",
       "    <tr>\n",
       "      <th>3</th>\n",
       "      <td>14.0</td>\n",
       "      <td>Elan Park</td>\n",
       "      <td>Elan Park</td>\n",
       "      <td>2</td>\n",
       "      <td>Blue Hen Rg</td>\n",
       "      <td>14.0</td>\n",
       "      <td>Front</td>\n",
       "      <td>False</td>\n",
       "      <td>whitecedar, Atlantic</td>\n",
       "      <td>Chamaecyparis thyoides</td>\n",
       "      <td>...</td>\n",
       "      <td>False</td>\n",
       "      <td>False</td>\n",
       "      <td>False</td>\n",
       "      <td>False</td>\n",
       "      <td>True</td>\n",
       "      <td>False</td>\n",
       "      <td>No</td>\n",
       "      <td>57</td>\n",
       "      <td>11-15%</td>\n",
       "      <td>26-30%</td>\n",
       "    </tr>\n",
       "    <tr>\n",
       "      <th>4</th>\n",
       "      <td>15.0</td>\n",
       "      <td>Elan Park</td>\n",
       "      <td>Elan Park</td>\n",
       "      <td>2</td>\n",
       "      <td>Blue Hen Rg</td>\n",
       "      <td>15.0</td>\n",
       "      <td>Front</td>\n",
       "      <td>False</td>\n",
       "      <td>whitecedar, Atlantic</td>\n",
       "      <td>Chamaecyparis thyoides</td>\n",
       "      <td>...</td>\n",
       "      <td>False</td>\n",
       "      <td>False</td>\n",
       "      <td>False</td>\n",
       "      <td>False</td>\n",
       "      <td>True</td>\n",
       "      <td>False</td>\n",
       "      <td>No</td>\n",
       "      <td>55</td>\n",
       "      <td>11-15%</td>\n",
       "      <td>21-25%</td>\n",
       "    </tr>\n",
       "  </tbody>\n",
       "</table>\n",
       "<p>5 rows × 54 columns</p>\n",
       "</div>"
      ],
      "text/plain": [
       "     ID         ON       AREA  ADDRESS       STREET  SITE   SIDE  ASSIGNED  \\\n",
       "0  11.0  Elan Park  Elan Park        2  Blue Hen Rg  11.0  Front     False   \n",
       "1  12.0  Elan Park  Elan Park        2  Blue Hen Rg  12.0  Front     False   \n",
       "2  13.0  Elan Park  Elan Park        2  Blue Hen Rg  13.0  Front     False   \n",
       "3  14.0  Elan Park  Elan Park        2  Blue Hen Rg  14.0  Front     False   \n",
       "4  15.0  Elan Park  Elan Park        2  Blue Hen Rg  15.0  Front     False   \n",
       "\n",
       "                 COMMON               BOTANICAL  ... IMPROPMULC  IMPROPPRUN  \\\n",
       "0   arborvitae, eastern      Thuja occidentalis  ...      False       False   \n",
       "1   arborvitae, eastern      Thuja occidentalis  ...      False       False   \n",
       "2   pine, eastern white           Pinus strobus  ...      False       False   \n",
       "3  whitecedar, Atlantic  Chamaecyparis thyoides  ...      False       False   \n",
       "4  whitecedar, Atlantic  Chamaecyparis thyoides  ...      False       False   \n",
       "\n",
       "  NUTRIENTD   PEST GIRDLING STRESS  OHUTILITY  TOP_HEIGHT CROWN_M CROWN_DIE  \n",
       "0     False  False    False  False         No          40    0-5%      0-5%  \n",
       "1     False  False    False  False         No          41    0-5%      0-5%  \n",
       "2     False  False     True  False         No          54    0-5%     6-10%  \n",
       "3     False  False     True  False         No          57  11-15%    26-30%  \n",
       "4     False  False     True  False         No          55  11-15%    21-25%  \n",
       "\n",
       "[5 rows x 54 columns]"
      ]
     },
     "execution_count": 283,
     "metadata": {},
     "output_type": "execute_result"
    }
   ],
   "source": [
    "# Display the first few rows of the DataFrame here.\n",
    "\n",
    "df.head()"
   ]
  },
  {
   "cell_type": "code",
   "execution_count": 284,
   "metadata": {},
   "outputs": [
    {
     "data": {
      "text/plain": [
       "(54,)"
      ]
     },
     "execution_count": 284,
     "metadata": {},
     "output_type": "execute_result"
    }
   ],
   "source": [
    "# How many columns does the DataFrame contain?\n",
    "\n",
    "df.columns.shape"
   ]
  },
  {
   "cell_type": "code",
   "execution_count": 285,
   "metadata": {},
   "outputs": [
    {
     "data": {
      "text/plain": [
       "Index(['ID', 'ON', 'AREA', 'ADDRESS', 'STREET', 'SITE', 'SIDE', 'ASSIGNED',\n",
       "       'COMMON', 'BOTANICAL', 'CULTIVAR', 'DBH', 'REMOVAL', 'STEMS', 'COND',\n",
       "       'MAINTPRIM', 'OBSERVE', 'INSPECT', 'LOCATION', 'NOTES', 'DATE', 'TIME',\n",
       "       'STAFF', 'XCOORD', 'YCOORD', 'FAILURE', 'LIKELIHOOD', 'TARGET',\n",
       "       'CONSEQ', 'RISK', 'UNIQUEID', 'EDITTIME', 'SPREAD', 'HEIGHT',\n",
       "       'CLEARANCE', 'DECAYCL', 'DECAYT', 'DECAYRF', 'DAMC', 'DAMT', 'DAMRF',\n",
       "       'CAVITYCL', 'CAVITYT', 'CAVITYRF', 'IMPROPMULC', 'IMPROPPRUN',\n",
       "       'NUTRIENTD', 'PEST', 'GIRDLING', 'STRESS', 'OHUTILITY', 'TOP_HEIGHT',\n",
       "       'CROWN_M', 'CROWN_DIE'],\n",
       "      dtype='object')"
      ]
     },
     "execution_count": 285,
     "metadata": {},
     "output_type": "execute_result"
    }
   ],
   "source": [
    "# What attributes (columns) does this DataFrame contain?\n",
    "\n",
    "df.columns"
   ]
  },
  {
   "cell_type": "markdown",
   "metadata": {},
   "source": [
    "Upon reviewing the columns of the DataFrame, we see that there is already a column named ID that is well suited for an index column.  \n",
    "\n",
    "For the purposes of this lab, we are only going to need a few of the available attributes. The attributes we wish to keep are listed below:\n",
    "* ID\n",
    "* UNIQUEID\n",
    "* COMMON\n",
    "* BOTANICAL\n",
    "* COND\n",
    "* RISK\n",
    "* HEIGHT\n",
    "\n",
    "Let's provide the index_col and the usecols args when we invoke the read_csv method."
   ]
  },
  {
   "cell_type": "code",
   "execution_count": 286,
   "metadata": {},
   "outputs": [],
   "source": [
    "# Create the new DataFrame here.\n",
    "\n",
    "ndf = pd.read_csv('data/newark_tree_data.csv',index_col='ID',usecols=['ID','UNIQUEID','COMMON','BOTANICAL','COND','RISK','HEIGHT'])"
   ]
  },
  {
   "cell_type": "code",
   "execution_count": 287,
   "metadata": {},
   "outputs": [
    {
     "data": {
      "text/html": [
       "<div>\n",
       "<style scoped>\n",
       "    .dataframe tbody tr th:only-of-type {\n",
       "        vertical-align: middle;\n",
       "    }\n",
       "\n",
       "    .dataframe tbody tr th {\n",
       "        vertical-align: top;\n",
       "    }\n",
       "\n",
       "    .dataframe thead th {\n",
       "        text-align: right;\n",
       "    }\n",
       "</style>\n",
       "<table border=\"1\" class=\"dataframe\">\n",
       "  <thead>\n",
       "    <tr style=\"text-align: right;\">\n",
       "      <th></th>\n",
       "      <th>COMMON</th>\n",
       "      <th>BOTANICAL</th>\n",
       "      <th>COND</th>\n",
       "      <th>RISK</th>\n",
       "      <th>UNIQUEID</th>\n",
       "      <th>HEIGHT</th>\n",
       "    </tr>\n",
       "    <tr>\n",
       "      <th>ID</th>\n",
       "      <th></th>\n",
       "      <th></th>\n",
       "      <th></th>\n",
       "      <th></th>\n",
       "      <th></th>\n",
       "      <th></th>\n",
       "    </tr>\n",
       "  </thead>\n",
       "  <tbody>\n",
       "    <tr>\n",
       "      <th>11.0</th>\n",
       "      <td>arborvitae, eastern</td>\n",
       "      <td>Thuja occidentalis</td>\n",
       "      <td>Good</td>\n",
       "      <td>Low</td>\n",
       "      <td>LM 20150929141218</td>\n",
       "      <td>40</td>\n",
       "    </tr>\n",
       "    <tr>\n",
       "      <th>12.0</th>\n",
       "      <td>arborvitae, eastern</td>\n",
       "      <td>Thuja occidentalis</td>\n",
       "      <td>Very Good</td>\n",
       "      <td>Low</td>\n",
       "      <td>LM 20150929141418</td>\n",
       "      <td>40</td>\n",
       "    </tr>\n",
       "    <tr>\n",
       "      <th>13.0</th>\n",
       "      <td>pine, eastern white</td>\n",
       "      <td>Pinus strobus</td>\n",
       "      <td>Good</td>\n",
       "      <td>Low</td>\n",
       "      <td>LM 20150929141844</td>\n",
       "      <td>54</td>\n",
       "    </tr>\n",
       "    <tr>\n",
       "      <th>14.0</th>\n",
       "      <td>whitecedar, Atlantic</td>\n",
       "      <td>Chamaecyparis thyoides</td>\n",
       "      <td>Fair</td>\n",
       "      <td>Low</td>\n",
       "      <td>LM 20150929142424</td>\n",
       "      <td>56</td>\n",
       "    </tr>\n",
       "    <tr>\n",
       "      <th>15.0</th>\n",
       "      <td>whitecedar, Atlantic</td>\n",
       "      <td>Chamaecyparis thyoides</td>\n",
       "      <td>Fair</td>\n",
       "      <td>Low</td>\n",
       "      <td>LM 20150929143018</td>\n",
       "      <td>55</td>\n",
       "    </tr>\n",
       "  </tbody>\n",
       "</table>\n",
       "</div>"
      ],
      "text/plain": [
       "                    COMMON               BOTANICAL       COND RISK  \\\n",
       "ID                                                                   \n",
       "11.0   arborvitae, eastern      Thuja occidentalis       Good  Low   \n",
       "12.0   arborvitae, eastern      Thuja occidentalis  Very Good  Low   \n",
       "13.0   pine, eastern white           Pinus strobus       Good  Low   \n",
       "14.0  whitecedar, Atlantic  Chamaecyparis thyoides       Fair  Low   \n",
       "15.0  whitecedar, Atlantic  Chamaecyparis thyoides       Fair  Low   \n",
       "\n",
       "               UNIQUEID  HEIGHT  \n",
       "ID                               \n",
       "11.0  LM 20150929141218      40  \n",
       "12.0  LM 20150929141418      40  \n",
       "13.0  LM 20150929141844      54  \n",
       "14.0  LM 20150929142424      56  \n",
       "15.0  LM 20150929143018      55  "
      ]
     },
     "execution_count": 287,
     "metadata": {},
     "output_type": "execute_result"
    }
   ],
   "source": [
    "# Display the first few rows of the new DataFrame here.\n",
    "\n",
    "ndf.head()"
   ]
  },
  {
   "cell_type": "markdown",
   "metadata": {},
   "source": [
    "The data narritive specifies that 4,193 sites were inventoried. Use the DataFrame shape attribute to verify the number of rows."
   ]
  },
  {
   "cell_type": "code",
   "execution_count": 288,
   "metadata": {},
   "outputs": [
    {
     "data": {
      "text/plain": [
       "4193"
      ]
     },
     "execution_count": 288,
     "metadata": {},
     "output_type": "execute_result"
    }
   ],
   "source": [
    "# How many rows does your DataFrame contain.\n",
    "\n",
    "num_rows = ndf.shape\n",
    "num_rows[0]"
   ]
  },
  {
   "cell_type": "markdown",
   "metadata": {},
   "source": [
    "Let's look at the distribution of data for the HEIGHT attribute."
   ]
  },
  {
   "cell_type": "code",
   "execution_count": 289,
   "metadata": {},
   "outputs": [
    {
     "name": "stdout",
     "output_type": "stream",
     "text": [
      "0\n"
     ]
    }
   ],
   "source": [
    "# What is the min height?\n",
    "\n",
    "min_height = ndf[\"HEIGHT\"].min()\n",
    "print(min_height)"
   ]
  },
  {
   "cell_type": "code",
   "execution_count": 290,
   "metadata": {},
   "outputs": [
    {
     "name": "stdout",
     "output_type": "stream",
     "text": [
      "140\n"
     ]
    }
   ],
   "source": [
    "# What is the max height?\n",
    "\n",
    "max_height = ndf[\"HEIGHT\"].max()\n",
    "print(max_height)"
   ]
  },
  {
   "cell_type": "code",
   "execution_count": 291,
   "metadata": {},
   "outputs": [
    {
     "data": {
      "text/html": [
       "<div>\n",
       "<style scoped>\n",
       "    .dataframe tbody tr th:only-of-type {\n",
       "        vertical-align: middle;\n",
       "    }\n",
       "\n",
       "    .dataframe tbody tr th {\n",
       "        vertical-align: top;\n",
       "    }\n",
       "\n",
       "    .dataframe thead th {\n",
       "        text-align: right;\n",
       "    }\n",
       "</style>\n",
       "<table border=\"1\" class=\"dataframe\">\n",
       "  <thead>\n",
       "    <tr style=\"text-align: right;\">\n",
       "      <th></th>\n",
       "      <th>COMMON</th>\n",
       "      <th>BOTANICAL</th>\n",
       "      <th>COND</th>\n",
       "      <th>RISK</th>\n",
       "      <th>UNIQUEID</th>\n",
       "      <th>HEIGHT</th>\n",
       "    </tr>\n",
       "  </thead>\n",
       "  <tbody>\n",
       "    <tr>\n",
       "      <th>count</th>\n",
       "      <td>4193</td>\n",
       "      <td>4193</td>\n",
       "      <td>4087</td>\n",
       "      <td>4087</td>\n",
       "      <td>4193</td>\n",
       "      <td>4193.000000</td>\n",
       "    </tr>\n",
       "    <tr>\n",
       "      <th>unique</th>\n",
       "      <td>159</td>\n",
       "      <td>159</td>\n",
       "      <td>8</td>\n",
       "      <td>3</td>\n",
       "      <td>4193</td>\n",
       "      <td>NaN</td>\n",
       "    </tr>\n",
       "    <tr>\n",
       "      <th>top</th>\n",
       "      <td>ash, white</td>\n",
       "      <td>Fraxinus americana</td>\n",
       "      <td>Fair</td>\n",
       "      <td>Low</td>\n",
       "      <td>LM 20150929141218</td>\n",
       "      <td>NaN</td>\n",
       "    </tr>\n",
       "    <tr>\n",
       "      <th>freq</th>\n",
       "      <td>585</td>\n",
       "      <td>585</td>\n",
       "      <td>1598</td>\n",
       "      <td>3833</td>\n",
       "      <td>1</td>\n",
       "      <td>NaN</td>\n",
       "    </tr>\n",
       "    <tr>\n",
       "      <th>mean</th>\n",
       "      <td>NaN</td>\n",
       "      <td>NaN</td>\n",
       "      <td>NaN</td>\n",
       "      <td>NaN</td>\n",
       "      <td>NaN</td>\n",
       "      <td>55.311472</td>\n",
       "    </tr>\n",
       "    <tr>\n",
       "      <th>std</th>\n",
       "      <td>NaN</td>\n",
       "      <td>NaN</td>\n",
       "      <td>NaN</td>\n",
       "      <td>NaN</td>\n",
       "      <td>NaN</td>\n",
       "      <td>36.293489</td>\n",
       "    </tr>\n",
       "    <tr>\n",
       "      <th>min</th>\n",
       "      <td>NaN</td>\n",
       "      <td>NaN</td>\n",
       "      <td>NaN</td>\n",
       "      <td>NaN</td>\n",
       "      <td>NaN</td>\n",
       "      <td>0.000000</td>\n",
       "    </tr>\n",
       "    <tr>\n",
       "      <th>25%</th>\n",
       "      <td>NaN</td>\n",
       "      <td>NaN</td>\n",
       "      <td>NaN</td>\n",
       "      <td>NaN</td>\n",
       "      <td>NaN</td>\n",
       "      <td>23.000000</td>\n",
       "    </tr>\n",
       "    <tr>\n",
       "      <th>50%</th>\n",
       "      <td>NaN</td>\n",
       "      <td>NaN</td>\n",
       "      <td>NaN</td>\n",
       "      <td>NaN</td>\n",
       "      <td>NaN</td>\n",
       "      <td>50.000000</td>\n",
       "    </tr>\n",
       "    <tr>\n",
       "      <th>75%</th>\n",
       "      <td>NaN</td>\n",
       "      <td>NaN</td>\n",
       "      <td>NaN</td>\n",
       "      <td>NaN</td>\n",
       "      <td>NaN</td>\n",
       "      <td>86.000000</td>\n",
       "    </tr>\n",
       "    <tr>\n",
       "      <th>max</th>\n",
       "      <td>NaN</td>\n",
       "      <td>NaN</td>\n",
       "      <td>NaN</td>\n",
       "      <td>NaN</td>\n",
       "      <td>NaN</td>\n",
       "      <td>140.000000</td>\n",
       "    </tr>\n",
       "  </tbody>\n",
       "</table>\n",
       "</div>"
      ],
      "text/plain": [
       "            COMMON           BOTANICAL  COND  RISK           UNIQUEID  \\\n",
       "count         4193                4193  4087  4087               4193   \n",
       "unique         159                 159     8     3               4193   \n",
       "top     ash, white  Fraxinus americana  Fair   Low  LM 20150929141218   \n",
       "freq           585                 585  1598  3833                  1   \n",
       "mean           NaN                 NaN   NaN   NaN                NaN   \n",
       "std            NaN                 NaN   NaN   NaN                NaN   \n",
       "min            NaN                 NaN   NaN   NaN                NaN   \n",
       "25%            NaN                 NaN   NaN   NaN                NaN   \n",
       "50%            NaN                 NaN   NaN   NaN                NaN   \n",
       "75%            NaN                 NaN   NaN   NaN                NaN   \n",
       "max            NaN                 NaN   NaN   NaN                NaN   \n",
       "\n",
       "             HEIGHT  \n",
       "count   4193.000000  \n",
       "unique          NaN  \n",
       "top             NaN  \n",
       "freq            NaN  \n",
       "mean      55.311472  \n",
       "std       36.293489  \n",
       "min        0.000000  \n",
       "25%       23.000000  \n",
       "50%       50.000000  \n",
       "75%       86.000000  \n",
       "max      140.000000  "
      ]
     },
     "execution_count": 291,
     "metadata": {},
     "output_type": "execute_result"
    }
   ],
   "source": [
    "# How do we acquire count, mean, standard deviation, and distribution information from the DataFrame \n",
    "# by invoking a single method?\n",
    "\n",
    "ndf.describe(include=\"all\")"
   ]
  },
  {
   "cell_type": "markdown",
   "metadata": {},
   "source": [
    "# Plot a histogram using the HEIGHT attribute. \n",
    "\n",
    "resources:\n",
    "* [Magic commands](https://ipython.readthedocs.io/en/stable/interactive/magics.html)\n",
    "* [Pandas Series Hist](https://pandas.pydata.org/pandas-docs/stable/reference/api/pandas.Series.plot.hist.html#pandas.Series.plot.hist)"
   ]
  },
  {
   "cell_type": "code",
   "execution_count": 292,
   "metadata": {},
   "outputs": [],
   "source": [
    "# Apply magic command to display matplotlib images inline\n",
    "\n",
    "%matplotlib inline"
   ]
  },
  {
   "cell_type": "code",
   "execution_count": 293,
   "metadata": {},
   "outputs": [
    {
     "data": {
      "image/png": "[encoded data removed]",
      "text/plain": [
       "<Figure size 700x500 with 1 Axes>"
      ]
     },
     "metadata": {},
     "output_type": "display_data"
    }
   ],
   "source": [
    "# Create a histogram using the HEIGHT attribute here\n",
    "\n",
    "ax = ndf.plot.hist(column = [\"HEIGHT\"], figsize=(7, 5), bins=12, color='pink', edgecolor='red')"
   ]
  },
  {
   "cell_type": "code",
   "execution_count": 294,
   "metadata": {},
   "outputs": [
    {
     "data": {
      "text/html": [
       "<div>\n",
       "<style scoped>\n",
       "    .dataframe tbody tr th:only-of-type {\n",
       "        vertical-align: middle;\n",
       "    }\n",
       "\n",
       "    .dataframe tbody tr th {\n",
       "        vertical-align: top;\n",
       "    }\n",
       "\n",
       "    .dataframe thead th {\n",
       "        text-align: right;\n",
       "    }\n",
       "</style>\n",
       "<table border=\"1\" class=\"dataframe\">\n",
       "  <thead>\n",
       "    <tr style=\"text-align: right;\">\n",
       "      <th></th>\n",
       "      <th>COMMON</th>\n",
       "      <th>BOTANICAL</th>\n",
       "      <th>COND</th>\n",
       "      <th>RISK</th>\n",
       "      <th>UNIQUEID</th>\n",
       "      <th>HEIGHT</th>\n",
       "    </tr>\n",
       "    <tr>\n",
       "      <th>ID</th>\n",
       "      <th></th>\n",
       "      <th></th>\n",
       "      <th></th>\n",
       "      <th></th>\n",
       "      <th></th>\n",
       "      <th></th>\n",
       "    </tr>\n",
       "  </thead>\n",
       "  <tbody>\n",
       "    <tr>\n",
       "      <th>119.0</th>\n",
       "      <td>stump</td>\n",
       "      <td>stump</td>\n",
       "      <td>NaN</td>\n",
       "      <td>NaN</td>\n",
       "      <td>LM 20151001093501</td>\n",
       "      <td>0</td>\n",
       "    </tr>\n",
       "    <tr>\n",
       "      <th>120.0</th>\n",
       "      <td>stump</td>\n",
       "      <td>stump</td>\n",
       "      <td>NaN</td>\n",
       "      <td>NaN</td>\n",
       "      <td>LM 20151001093612</td>\n",
       "      <td>0</td>\n",
       "    </tr>\n",
       "    <tr>\n",
       "      <th>269.0</th>\n",
       "      <td>stump</td>\n",
       "      <td>stump</td>\n",
       "      <td>NaN</td>\n",
       "      <td>NaN</td>\n",
       "      <td>LM 20151005101319</td>\n",
       "      <td>0</td>\n",
       "    </tr>\n",
       "    <tr>\n",
       "      <th>270.0</th>\n",
       "      <td>stump</td>\n",
       "      <td>stump</td>\n",
       "      <td>NaN</td>\n",
       "      <td>NaN</td>\n",
       "      <td>LM 20151005101403</td>\n",
       "      <td>0</td>\n",
       "    </tr>\n",
       "    <tr>\n",
       "      <th>271.0</th>\n",
       "      <td>stump</td>\n",
       "      <td>stump</td>\n",
       "      <td>NaN</td>\n",
       "      <td>NaN</td>\n",
       "      <td>LM 20151005101436</td>\n",
       "      <td>0</td>\n",
       "    </tr>\n",
       "    <tr>\n",
       "      <th>...</th>\n",
       "      <td>...</td>\n",
       "      <td>...</td>\n",
       "      <td>...</td>\n",
       "      <td>...</td>\n",
       "      <td>...</td>\n",
       "      <td>...</td>\n",
       "    </tr>\n",
       "    <tr>\n",
       "      <th>4095.0</th>\n",
       "      <td>stump</td>\n",
       "      <td>stump</td>\n",
       "      <td>NaN</td>\n",
       "      <td>NaN</td>\n",
       "      <td>SR 20151103154447</td>\n",
       "      <td>0</td>\n",
       "    </tr>\n",
       "    <tr>\n",
       "      <th>4149.0</th>\n",
       "      <td>stump</td>\n",
       "      <td>stump</td>\n",
       "      <td>NaN</td>\n",
       "      <td>NaN</td>\n",
       "      <td>SR 20151104115722</td>\n",
       "      <td>0</td>\n",
       "    </tr>\n",
       "    <tr>\n",
       "      <th>4167.0</th>\n",
       "      <td>stump</td>\n",
       "      <td>stump</td>\n",
       "      <td>NaN</td>\n",
       "      <td>NaN</td>\n",
       "      <td>SR 20151104142636</td>\n",
       "      <td>0</td>\n",
       "    </tr>\n",
       "    <tr>\n",
       "      <th>4168.0</th>\n",
       "      <td>stump</td>\n",
       "      <td>stump</td>\n",
       "      <td>NaN</td>\n",
       "      <td>NaN</td>\n",
       "      <td>SR 20151104142704</td>\n",
       "      <td>0</td>\n",
       "    </tr>\n",
       "    <tr>\n",
       "      <th>4175.0</th>\n",
       "      <td>stump</td>\n",
       "      <td>stump</td>\n",
       "      <td>NaN</td>\n",
       "      <td>NaN</td>\n",
       "      <td>SR 20151104151721</td>\n",
       "      <td>0</td>\n",
       "    </tr>\n",
       "  </tbody>\n",
       "</table>\n",
       "<p>100 rows × 6 columns</p>\n",
       "</div>"
      ],
      "text/plain": [
       "       COMMON BOTANICAL COND RISK           UNIQUEID  HEIGHT\n",
       "ID                                                          \n",
       "119.0   stump     stump  NaN  NaN  LM 20151001093501       0\n",
       "120.0   stump     stump  NaN  NaN  LM 20151001093612       0\n",
       "269.0   stump     stump  NaN  NaN  LM 20151005101319       0\n",
       "270.0   stump     stump  NaN  NaN  LM 20151005101403       0\n",
       "271.0   stump     stump  NaN  NaN  LM 20151005101436       0\n",
       "...       ...       ...  ...  ...                ...     ...\n",
       "4095.0  stump     stump  NaN  NaN  SR 20151103154447       0\n",
       "4149.0  stump     stump  NaN  NaN  SR 20151104115722       0\n",
       "4167.0  stump     stump  NaN  NaN  SR 20151104142636       0\n",
       "4168.0  stump     stump  NaN  NaN  SR 20151104142704       0\n",
       "4175.0  stump     stump  NaN  NaN  SR 20151104151721       0\n",
       "\n",
       "[100 rows x 6 columns]"
      ]
     },
     "execution_count": 294,
     "metadata": {},
     "output_type": "execute_result"
    }
   ],
   "source": [
    "result_df= ndf.loc[ndf['COND'].isna()==True]\n",
    "result_df=result_df.loc[result_df['BOTANICAL']=='stump']\n",
    "result_df"
   ]
  },
  {
   "cell_type": "markdown",
   "metadata": {},
   "source": [
    "The data narrative specifies the following:\n",
    "\"A total of 4,193 sites were inventoried, including 4,087 trees, 100 stumps, and 6 vacant planting sites\"\n",
    "\n",
    "Earlier, we were able to validate the total number of entries in the DataFrame. Let's now dig in a bit deeper and validate the stumps and vacant planting sites."
   ]
  },
  {
   "cell_type": "code",
   "execution_count": 295,
   "metadata": {},
   "outputs": [
    {
     "name": "stdout",
     "output_type": "stream",
     "text": [
      "100\n"
     ]
    }
   ],
   "source": [
    "# How many entries are stumps\n",
    "\n",
    "stump_count = ((ndf['COND'].isnull() == True) & (ndf['BOTANICAL']=='stump')). sum()\n",
    "print(stump_count)\n"
   ]
  },
  {
   "cell_type": "code",
   "execution_count": 296,
   "metadata": {},
   "outputs": [
    {
     "name": "stdout",
     "output_type": "stream",
     "text": [
      "6\n"
     ]
    }
   ],
   "source": [
    "# How many entries are vacant sites\n",
    "\n",
    "vacant_count = ((ndf['COND'].isnull() == True) & (ndf['BOTANICAL']!='stump')). sum()\n",
    "print(vacant_count)"
   ]
  },
  {
   "cell_type": "code",
   "execution_count": 297,
   "metadata": {},
   "outputs": [
    {
     "name": "stdout",
     "output_type": "stream",
     "text": [
      "4087\n"
     ]
    }
   ],
   "source": [
    "remaining = (ndf['COND'].isnull() != True). sum()\n",
    "print(remaining)"
   ]
  },
  {
   "cell_type": "code",
   "execution_count": 298,
   "metadata": {},
   "outputs": [
    {
     "name": "stdout",
     "output_type": "stream",
     "text": [
      "4193\n"
     ]
    }
   ],
   "source": [
    "# Do these number add up?\n",
    "\n",
    "total_count = stump_count + vacant_count + remaining \n",
    "print(total_count)   "
   ]
  },
  {
   "cell_type": "code",
   "execution_count": 299,
   "metadata": {},
   "outputs": [
    {
     "name": "stdout",
     "output_type": "stream",
     "text": [
      "106\n"
     ]
    }
   ],
   "source": [
    "print(stump_count + vacant_count)"
   ]
  },
  {
   "cell_type": "markdown",
   "metadata": {},
   "source": [
    "# Plot a bar graph using the COND attribute.\n",
    "\n",
    "resources:\n",
    "* [Pandas Series Bar](https://pandas.pydata.org/pandas-docs/stable/reference/api/pandas.Series.plot.bar.html#pandas.Series.plot.bar)"
   ]
  },
  {
   "cell_type": "code",
   "execution_count": 300,
   "metadata": {},
   "outputs": [
    {
     "name": "stdout",
     "output_type": "stream",
     "text": [
      "COND\n",
      "Fair         1598\n",
      "Good         1168\n",
      "Poor          402\n",
      "Very Good     381\n",
      "Dead          218\n",
      "Excellent     163\n",
      "Very Poor      83\n",
      "Critical       74\n",
      "Name: count, dtype: int64\n"
     ]
    }
   ],
   "source": [
    "# How can we determine all of the possible values describing the condition of a tree and their associated counts?\n",
    "\n",
    "condition = ndf['COND'].value_counts()\n",
    "print(condition)"
   ]
  },
  {
   "cell_type": "code",
   "execution_count": 301,
   "metadata": {},
   "outputs": [],
   "source": [
    "# Were these already in the order you would want them to be in order for a graph to make sense? \n",
    "# If not, reorder  the Series.\n",
    "\n",
    "condition = condition.reindex(index=['Excellent', 'Very Good', 'Good', 'Fair', 'Poor', 'Very Poor', 'Critical', 'Dead'])"
   ]
  },
  {
   "cell_type": "code",
   "execution_count": 302,
   "metadata": {},
   "outputs": [
    {
     "data": {
      "image/png": "[encoded data removed]",
      "text/plain": [
       "<Figure size 640x480 with 1 Axes>"
      ]
     },
     "metadata": {},
     "output_type": "display_data"
    }
   ],
   "source": [
    "# Plot the Series here\n",
    "\n",
    "ax = condition.plot.bar(x='COND',y='val',rot=0)"
   ]
  },
  {
   "cell_type": "code",
   "execution_count": 303,
   "metadata": {},
   "outputs": [
    {
     "name": "stdout",
     "output_type": "stream",
     "text": [
      "106\n"
     ]
    }
   ],
   "source": [
    "# How many entries have missing values for the COND attribute? Why are these values missing?\n",
    "\n",
    "missing_condition = ndf['COND'].isnull().sum()\n",
    "print(missing_condition)"
   ]
  },
  {
   "cell_type": "markdown",
   "metadata": {},
   "source": [
    "# Plot a pie chart using the RISK attribute."
   ]
  },
  {
   "cell_type": "markdown",
   "metadata": {},
   "source": [
    "resources:\n",
    "* [Pandas Series Pie](https://pandas.pydata.org/pandas-docs/stable/reference/api/pandas.Series.plot.pie.html#pandas.Series.plot.pie)\n",
    "* [matplotlib pie chart docs](https://matplotlib.org/api/pyplot_api.html#matplotlib.pyplot.pie)"
   ]
  },
  {
   "cell_type": "code",
   "execution_count": 349,
   "metadata": {},
   "outputs": [
    {
     "name": "stdout",
     "output_type": "stream",
     "text": [
      "RISK\n",
      "Low         3833\n",
      "Moderate     241\n",
      "High          13\n",
      "Name: count, dtype: int64\n"
     ]
    }
   ],
   "source": [
    "# How can we determine all of the possible values describing the RISK associated with each tree\n",
    "# along with the corresponding row counts?\n",
    "\n",
    "risk_counts = ndf['RISK'].value_counts()\n",
    "print(risk_counts)\n"
   ]
  },
  {
   "cell_type": "code",
   "execution_count": 350,
   "metadata": {},
   "outputs": [],
   "source": [
    "# Create an array containing the colors green, yellow, and orange\n",
    "# When we create our pie chart, the colors should be associated with the attributes according to the specifications below:\n",
    "# Green -> Low\n",
    "# Yellow -> Moderate\n",
    "# Orange -> High\n",
    "# Define the color mapping\n",
    "\n",
    "colors_mapping = ['Green','Yellow','Orange']  \n"
   ]
  },
  {
   "cell_type": "code",
   "execution_count": 351,
   "metadata": {},
   "outputs": [
    {
     "data": {
      "image/png": "[encoded data removed]",
      "text/plain": [
       "<Figure size 640x480 with 1 Axes>"
      ]
     },
     "metadata": {},
     "output_type": "display_data"
    }
   ],
   "source": [
    "# Plot the pie chart here\n",
    "\n",
    "plot = risk_counts.plot.pie(subplots=True,colors=colors_mapping)"
   ]
  },
  {
   "cell_type": "code",
   "execution_count": 352,
   "metadata": {},
   "outputs": [
    {
     "name": "stdout",
     "output_type": "stream",
     "text": [
      "106\n"
     ]
    }
   ],
   "source": [
    "# How many entries have missing values for the RISK attribute? Why are these values missing?\n",
    "missing_risk_count = df['RISK'].isnull().sum()\n",
    "\n",
    "print(missing_risk_count)"
   ]
  },
  {
   "cell_type": "markdown",
   "metadata": {},
   "source": [
    "# Indexing"
   ]
  },
  {
   "cell_type": "code",
   "execution_count": 353,
   "metadata": {},
   "outputs": [
    {
     "data": {
      "text/plain": [
       "COMMON       arborvitae, eastern\n",
       "BOTANICAL     Thuja occidentalis\n",
       "COND                   Very Good\n",
       "RISK                         Low\n",
       "UNIQUEID       LM 20150929141418\n",
       "HEIGHT                        40\n",
       "Name: 12.0, dtype: object"
      ]
     },
     "execution_count": 353,
     "metadata": {},
     "output_type": "execute_result"
    }
   ],
   "source": [
    "# Display row by position 1\n",
    "\n",
    "ndf.iloc[1]"
   ]
  },
  {
   "cell_type": "code",
   "execution_count": 354,
   "metadata": {},
   "outputs": [
    {
     "data": {
      "text/plain": [
       "COMMON              locust, black\n",
       "BOTANICAL    Robinia pseudoacacia\n",
       "COND                         Poor\n",
       "RISK                     Moderate\n",
       "UNIQUEID        LM 20150929131426\n",
       "HEIGHT                         43\n",
       "Name: 1.0, dtype: object"
      ]
     },
     "execution_count": 354,
     "metadata": {},
     "output_type": "execute_result"
    }
   ],
   "source": [
    "# Display row by label 1\n",
    "\n",
    "ndf.loc[1]"
   ]
  },
  {
   "cell_type": "code",
   "execution_count": null,
   "metadata": {},
   "outputs": [],
   "source": []
  }
 ],
 "metadata": {
  "kernelspec": {
   "display_name": "Python 3 (ipykernel)",
   "language": "python",
   "name": "python3"
  },
  "language_info": {
   "codemirror_mode": {
    "name": "ipython",
    "version": 3
   },
   "file_extension": ".py",
   "mimetype": "text/x-python",
   "name": "python",
   "nbconvert_exporter": "python",
   "pygments_lexer": "ipython3",
   "version": "3.12.5"
  }
 },
 "nbformat": 4,
 "nbformat_minor": 4
}
